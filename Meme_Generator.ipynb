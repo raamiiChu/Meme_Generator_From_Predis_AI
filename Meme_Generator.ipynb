{
 "cells": [
  {
   "attachments": {},
   "cell_type": "markdown",
   "metadata": {},
   "source": [
    "### 下載模組"
   ]
  },
  {
   "attachments": {},
   "cell_type": "markdown",
   "metadata": {},
   "source": [
    "在終端機輸入以下指令：\n",
    "\n",
    "```\n",
    "pip install git+https://github.com/ozgur/python-firebase\n",
    "pip install selenium\n",
    "pip install transformers\n",
    "pip install -U ckip-transformers\n",
    "```"
   ]
  },
  {
   "attachments": {},
   "cell_type": "markdown",
   "metadata": {},
   "source": [
    "CKIP 套件  \n",
    "資料來源：https://github.com/ckiplab/ckip-transformers"
   ]
  },
  {
   "attachments": {},
   "cell_type": "markdown",
   "metadata": {},
   "source": [
    "### 匯入模組"
   ]
  },
  {
   "cell_type": "code",
   "execution_count": 2,
   "metadata": {},
   "outputs": [],
   "source": [
    "import os\n",
    "import base64\n",
    "import random\n",
    "\n",
    "# 函式註解\n",
    "from typing import *\n",
    "\n",
    "# 資料庫\n",
    "from firebase import firebase\n",
    "\n",
    "# 網路爬蟲\n",
    "import requests\n",
    "from time import sleep\n",
    "from requests.exceptions import InvalidSchema\n",
    "from selenium import webdriver\n",
    "from selenium.webdriver.chrome.options import Options\n",
    "from selenium.webdriver.remote.webelement import WebElement\n",
    "from selenium.webdriver.common.by import By\n",
    "from selenium.webdriver.common.action_chains import ActionChains\n",
    "from selenium.webdriver.support import expected_conditions as EC\n",
    "from selenium.webdriver.support.ui import WebDriverWait\n",
    "\n",
    "from transformers import (\n",
    "   BertTokenizerFast,\n",
    "   AutoModelForMaskedLM,\n",
    "   AutoModelForCausalLM,\n",
    "   AutoModelForTokenClassification,\n",
    ")\n",
    "from ckip_transformers.nlp import CkipWordSegmenter"
   ]
  },
  {
   "attachments": {},
   "cell_type": "markdown",
   "metadata": {},
   "source": [
    "### 定義 Class MemeGenerator "
   ]
  },
  {
   "cell_type": "code",
   "execution_count": 11,
   "metadata": {},
   "outputs": [],
   "source": [
    "class MemeGenerator:\n",
    "    def __init__(self, texts: List[str], url: str) -> None:\n",
    "        self.url = url\n",
    "        self.texts = texts\n",
    "\n",
    "        self.chrome_options = Options()\n",
    "        self.chrome_options.add_argument(\"--disable-gpu\")\n",
    "\n",
    "        # 無頭模式\n",
    "        # self.chrome_options.add_argument(\"--headless\")\n",
    "\n",
    "    # 用自己的模型製作迷因\n",
    "    def generate_meme(self) -> None:\n",
    "        self.open_webdriver()\n",
    "        self.type_texts()\n",
    "        self.download_img(f\"./pictures/result.png\")\n",
    "        self.close()\n",
    "\n",
    "    # 用現成的 AI 製作迷因\n",
    "    def generate_meme_predis_ai(self) -> None:\n",
    "        # ckip 斷詞\n",
    "        self.texts_preprocessing_with_ckip()\n",
    "\n",
    "        # 至少 4 個詞彙才會執行\n",
    "        if len(self.texts) >= 4:\n",
    "            # 詞彙之間以空格做間隔\n",
    "            self.texts = \" \".join(self.texts)\n",
    "\n",
    "            # 開始網路爬蟲\n",
    "            self.open_webdriver()\n",
    "            self.genrate_meme()\n",
    "            self.close()\n",
    "        else:\n",
    "            print(\"字數過少\")\n",
    "\n",
    "    #### 預處理\n",
    "    # 字數過長，則加上換行符號\n",
    "    def texts_preprocessing(self) -> None:\n",
    "        for index, text in enumerate(self.texts):\n",
    "            if len(text) > 7:\n",
    "                # 每 7 個字加上換行符號\n",
    "                self.texts[index] = '\\n'.join([text[i:i+7] for i in range(0, len(text), 7)])\n",
    "    \n",
    "    # ckip 斷詞\n",
    "    def texts_preprocessing_with_ckip(self) -> None:\n",
    "        # 以下三種模型擇一\n",
    "        # masked language model (ALBERT, BERT)\n",
    "        tokenizer = BertTokenizerFast.from_pretrained('bert-base-chinese')\n",
    "        model = AutoModelForMaskedLM.from_pretrained('ckiplab/albert-tiny-chinese') # or other models above\n",
    "\n",
    "        # casual language model (GPT2)\n",
    "        # tokenizer = BertTokenizerFast.from_pretrained('bert-base-chinese')\n",
    "        # model = AutoModelForCausalLM.from_pretrained('ckiplab/gpt2-base-chinese') # or other models above\n",
    "\n",
    "        # nlp task model\n",
    "        # tokenizer = BertTokenizerFast.from_pretrained('bert-base-chinese')\n",
    "        # model = AutoModelForTokenClassification.from_pretrained('ckiplab/albert-tiny-chinese-ws') # or other models above\n",
    "\n",
    "        # Initialize drivers\n",
    "        # tokenizer\n",
    "        ws_driver = CkipWordSegmenter(model = \"bert-base\")\n",
    "\n",
    "        # 斷詞\n",
    "        ws_result = ws_driver(self.texts)\n",
    "\n",
    "        # 回傳斷詞結果，list[str]\n",
    "        self.texts = ws_result[0]\n",
    "\n",
    "    ##### 網路爬蟲 (https://imgflip.com/memetemplates)\n",
    "    # 開啟瀏覽器\n",
    "    def open_webdriver(self) -> None:\n",
    "        # 初始化瀏覽器、設置智能等待\n",
    "        # 注意!!! implicitly_wait 不要設定得太短\n",
    "        self.driver = webdriver.Chrome('chromedriver', options = self.chrome_options)\n",
    "        self.driver.implicitly_wait(20)\n",
    "\n",
    "        # 開啟瀏覽器，並固定視窗大小\n",
    "        self.driver.get(self.url)\n",
    "        self.driver.set_window_size(1200, 800)\n",
    "        sleep(0.5)\n",
    "\n",
    "    # 輸入文本\n",
    "    def type_texts(self) -> None:\n",
    "        # 字數過長，則加上換行符號\n",
    "        self.texts_preprocessing()\n",
    "\n",
    "        parent = self.driver.find_element(By.CLASS_NAME, \"mm-boxes\")\n",
    "\n",
    "        # 找到所有可填寫的欄位，並逐一填寫文本\n",
    "        textareas = parent.find_elements(By.CLASS_NAME, \"mm-text\")\n",
    "        for index, textarea in enumerate(textareas):\n",
    "            textarea.send_keys(self.texts[index])\n",
    "\n",
    "        sleep(0.5)\n",
    "\n",
    "    # 下載圖片\n",
    "    def download_img(self, image_path: str) -> None:\n",
    "        # 點擊下載按鈕\n",
    "        download_btn = self.driver.find_element(By.XPATH, r\"/html/body/div[3]/div[2]/div[2]/div[10]/div[5]/button[1]\")\n",
    "        download_btn.click()\n",
    "\n",
    "        # 找到圖片，並取得下載連結\n",
    "        img = self.driver.find_element(By.ID, \"done-img\")\n",
    "        img_url = img.get_attribute(\"src\")\n",
    "        sleep(0.5)\n",
    "\n",
    "        # 解碼 Base64 圖片資料\n",
    "        image_data = img_url.split(\",\")[1]\n",
    "        image_bytes = base64.b64decode(image_data)\n",
    "\n",
    "        # 輸出圖片\n",
    "        with open(image_path, \"wb\") as file:\n",
    "            file.write(image_bytes)\n",
    "        \n",
    "        sleep(0.5)\n",
    "\n",
    "    ##### 網路爬蟲 (https://predis.ai/free-ai-tools/ai-meme-generator/#)\n",
    "    def genrate_meme(self) -> None:\n",
    "        # 輸入情境文本\n",
    "        textarea = self.driver.find_element(By.CLASS_NAME, \"MuiFilledInput-input\")\n",
    "        textarea.send_keys(self.texts)\n",
    "        sleep(0.5)\n",
    "        \n",
    "        # 點擊 \"GENERATE\" 按鈕\n",
    "        btn_genrate = self.driver.find_element(By.XPATH, \"/html/body/div[1]/div/div[2]/div[1]/div[3]/div/div/div/div/div[2]/div[2]/button[2]\")\n",
    "        btn_genrate.click()\n",
    "        sleep(20)\n",
    "\n",
    "        # 獲取圖片 url\n",
    "        img_url = self.driver.find_element(By.CLASS_NAME, \"MuiAvatar-img\").get_attribute(\"src\")\n",
    "        print(img_url)\n",
    "\n",
    "    # 關閉瀏覽器\n",
    "    def close(self) -> None:\n",
    "        self.driver.quit()"
   ]
  },
  {
   "attachments": {},
   "cell_type": "markdown",
   "metadata": {},
   "source": [
    "### 下載資料庫內容"
   ]
  },
  {
   "cell_type": "code",
   "execution_count": 4,
   "metadata": {},
   "outputs": [],
   "source": [
    "DATABASE_URL = \"https://fir-test-9907d-default-rtdb.firebaseio.com/\"\n",
    "\n",
    "fdb = firebase.FirebaseApplication(DATABASE_URL, None)\n",
    "response = fdb.get(\"/meme_template\", None)"
   ]
  },
  {
   "attachments": {},
   "cell_type": "markdown",
   "metadata": {},
   "source": [
    "### 主程式"
   ]
  },
  {
   "attachments": {},
   "cell_type": "markdown",
   "metadata": {},
   "source": [
    "##### 用自己的模型製作迷因"
   ]
  },
  {
   "cell_type": "code",
   "execution_count": 7,
   "metadata": {},
   "outputs": [],
   "source": [
    "# 文本，預計用 AI 生成\n",
    "texts = [\"文本 1\", \"總字數超過7個字就換行\", \"文本 3\", \"文本 4\", \"文本 5\", \"文本 6\", \"文本 7\", \"文本 8\"]\n",
    "\n",
    "# 隨機抽取網址\n",
    "urls = list(value[\"url\"] for value in response.values())\n",
    "url = random.choice(urls)\n",
    "\n",
    "# 進行網路爬蟲，最終結果在 \"pictures\" 資料夾\n",
    "MemeGen = MemeGenerator(texts, url)\n",
    "MemeGen.generate_meme()"
   ]
  },
  {
   "attachments": {},
   "cell_type": "markdown",
   "metadata": {},
   "source": [
    "##### 用現成的 AI 製作迷因"
   ]
  },
  {
   "cell_type": "code",
   "execution_count": 12,
   "metadata": {},
   "outputs": [
    {
     "name": "stderr",
     "output_type": "stream",
     "text": [
      "Tokenization: 100%|██████████| 1/1 [00:00<?, ?it/s]\n",
      "Inference: 100%|██████████| 1/1 [00:00<00:00, 14.33it/s]\n"
     ]
    },
    {
     "name": "stdout",
     "output_type": "stream",
     "text": [
      "https://assets.predis.ai/calendar_user_upl_img/website.widget%40predis.ai/6475f2c128802c6b2d33e9c7_bab3241b-aa70-465e-a025-f0d7432c7d70_0_Kv4ox.jpeg\n"
     ]
    }
   ],
   "source": [
    "texts = [\"你們抓捕周樹人跟我魯迅有甚麼關係\"]\n",
    "url = \"https://predis.ai/free-ai-tools/ai-meme-generator/#\"\n",
    "\n",
    "MemeGen = MemeGenerator(texts, url)\n",
    "MemeGen.generate_meme_predis_ai()"
   ]
  },
  {
   "cell_type": "code",
   "execution_count": null,
   "metadata": {},
   "outputs": [],
   "source": []
  }
 ],
 "metadata": {
  "kernelspec": {
   "display_name": "Python 3",
   "language": "python",
   "name": "python3"
  },
  "language_info": {
   "codemirror_mode": {
    "name": "ipython",
    "version": 3
   },
   "file_extension": ".py",
   "mimetype": "text/x-python",
   "name": "python",
   "nbconvert_exporter": "python",
   "pygments_lexer": "ipython3",
   "version": "3.10.6"
  },
  "orig_nbformat": 4
 },
 "nbformat": 4,
 "nbformat_minor": 2
}
