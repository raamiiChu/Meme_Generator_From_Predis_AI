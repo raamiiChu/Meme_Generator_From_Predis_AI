{
 "cells": [
  {
   "cell_type": "markdown",
   "metadata": {},
   "source": [
    "### 安裝 WebDriver "
   ]
  },
  {
   "cell_type": "markdown",
   "metadata": {},
   "source": [
    "1. 建立 chromedriver-win64 資料夾\n",
    "2. 下載 Chrome Driver 並放置到剛剛建立的資料夾 "
   ]
  },
  {
   "cell_type": "markdown",
   "metadata": {},
   "source": [
    "##### WebDriver  安裝教學"
   ]
  },
  {
   "cell_type": "markdown",
   "metadata": {},
   "source": [
    "- WebDriver 安裝教學：  https://steam.oxxostudio.tw/category/python/spider/selenium.html#a4  \n",
    "  \n",
    "- WebDriver 下載網址：  https://chromedriver.chromium.org/downloads  "
   ]
  },
  {
   "attachments": {},
   "cell_type": "markdown",
   "metadata": {},
   "source": [
    "### 下載模組"
   ]
  },
  {
   "attachments": {},
   "cell_type": "markdown",
   "metadata": {},
   "source": [
    "在終端機輸入以下指令：\n",
    "\n",
    "```\n",
    "pip install -r requirements.txt\n",
    "```"
   ]
  },
  {
   "attachments": {},
   "cell_type": "markdown",
   "metadata": {},
   "source": [
    "### 匯入模組"
   ]
  },
  {
   "cell_type": "code",
   "execution_count": 1,
   "metadata": {},
   "outputs": [],
   "source": [
    "# 函式註解\n",
    "from typing import *\n",
    "\n",
    "# 網路爬蟲\n",
    "import requests\n",
    "from time import sleep\n",
    "from requests.exceptions import InvalidSchema\n",
    "from selenium import webdriver\n",
    "from selenium.webdriver.chrome.options import Options\n",
    "from selenium.webdriver.remote.webelement import WebElement\n",
    "from selenium.webdriver.common.by import By\n",
    "from selenium.webdriver.common.action_chains import ActionChains\n",
    "from selenium.webdriver.support import expected_conditions as EC\n",
    "from selenium.webdriver.support.ui import WebDriverWait"
   ]
  },
  {
   "cell_type": "code",
   "execution_count": 2,
   "metadata": {},
   "outputs": [
    {
     "name": "stderr",
     "output_type": "stream",
     "text": [
      "c:\\Users\\raamii0617eric\\AppData\\Local\\Programs\\Python\\Python310\\lib\\site-packages\\tqdm\\auto.py:21: TqdmWarning: IProgress not found. Please update jupyter and ipywidgets. See https://ipywidgets.readthedocs.io/en/stable/user_install.html\n",
      "  from .autonotebook import tqdm as notebook_tqdm\n"
     ]
    }
   ],
   "source": [
    "from transformers import (\n",
    "   BertTokenizerFast,\n",
    "   AutoModelForMaskedLM,\n",
    "   AutoModelForCausalLM,\n",
    "   AutoModelForTokenClassification,\n",
    ")\n",
    "from ckip_transformers.nlp import CkipWordSegmenter"
   ]
  },
  {
   "attachments": {},
   "cell_type": "markdown",
   "metadata": {},
   "source": [
    "### 定義 Class MemeGeneratorPredisAI"
   ]
  },
  {
   "cell_type": "code",
   "execution_count": 3,
   "metadata": {},
   "outputs": [],
   "source": [
    "class MemeGeneratorPredisAI:\n",
    "    def __init__(self, url: str) -> None:\n",
    "        self.url = url\n",
    "\n",
    "        self.chrome_options = Options()\n",
    "        self.chrome_options.add_argument(\"--disable-gpu\")\n",
    "\n",
    "        # 關閉操作許可權的提示框\n",
    "        self.chrome_options.add_argument('--disable-infobars')\n",
    "\n",
    "        # 無頭模式\n",
    "        # self.chrome_options.add_argument(\"--headless\")\n",
    "\n",
    "        # 關閉安全隔離，可以解決 Chrome Driver 無法啟動的問題\n",
    "        self.chrome_options.add_argument(\"--no-sandbox\")\n",
    "    \n",
    "    # 開啟瀏覽器\n",
    "    def open_webdriver(self) -> None:\n",
    "        # 初始化瀏覽器\n",
    "        self.driver = webdriver.Chrome(\n",
    "            './chromedriver-win64/chromedriver.exe', \n",
    "            options = self.chrome_options)\n",
    "        \n",
    "        # 設置智能等待\n",
    "        # 注意!!! implicitly_wait 不要設定得太短\n",
    "        self.driver.implicitly_wait(20)\n",
    "\n",
    "        # 開啟瀏覽器，並固定視窗大小\n",
    "        self.driver.get(self.url)\n",
    "        self.driver.set_window_size(1200, 800)\n",
    "        sleep(0.5)\n",
    "\n",
    "    def generate_meme(self, text: str) -> str:\n",
    "        # 輸入情境文本\n",
    "        textarea = self.driver.find_element(By.CLASS_NAME, \"MuiFilledInput-input\")\n",
    "        textarea.send_keys(text)\n",
    "        sleep(0.5)\n",
    "        \n",
    "        # 點擊 \"GENERATE\" 按鈕\n",
    "        btn_generate = self.driver.find_element(By.CLASS_NAME, \"MuiButton-containedPrimary\")\n",
    "        btn_generate.click()\n",
    "        sleep(15)\n",
    "\n",
    "        # 獲取圖片 url\n",
    "        img_url = self.driver.find_element(By.CLASS_NAME, \"MuiAvatar-img\").get_attribute(\"src\")\n",
    "        return img_url\n",
    "\n",
    "    # 關閉瀏覽器\n",
    "    def close(self) -> None:\n",
    "        self.driver.quit()"
   ]
  },
  {
   "attachments": {},
   "cell_type": "markdown",
   "metadata": {},
   "source": [
    "### 文本預處理"
   ]
  },
  {
   "attachments": {
    "image-3.png": {
     "image/png": "[encoded data removed]"
    },
    "image.png": {
     "image/png": "[encoded data removed]"
    }
   },
   "cell_type": "markdown",
   "metadata": {},
   "source": [
    "直接輸入中文句子會報錯，因為至少要 4 個詞彙  \n",
    "  \n",
    "![斷詞前的結果](attachment:image.png)  \n",
    "  \n",
    "因此要先斷詞，然後詞彙之間用空格做間隔  \n",
    "\n",
    "![斷詞後的結果](attachment:image-3.png)  "
   ]
  },
  {
   "cell_type": "code",
   "execution_count": 4,
   "metadata": {},
   "outputs": [],
   "source": [
    "def text_preprocessing(text: List[str]) -> List[str]:\n",
    "    # 以下三種模型擇一\n",
    "    # masked language model (ALBERT, BERT)\n",
    "    tokenizer = BertTokenizerFast.from_pretrained('bert-base-chinese')\n",
    "    model = AutoModelForMaskedLM.from_pretrained('ckiplab/albert-tiny-chinese') # or other models above\n",
    "\n",
    "    # casual language model (GPT2)\n",
    "    # tokenizer = BertTokenizerFast.from_pretrained('bert-base-chinese')\n",
    "    # model = AutoModelForCausalLM.from_pretrained('ckiplab/gpt2-base-chinese') # or other models above\n",
    "\n",
    "    # nlp task model\n",
    "    # tokenizer = BertTokenizerFast.from_pretrained('bert-base-chinese')\n",
    "    # model = AutoModelForTokenClassification.from_pretrained('ckiplab/albert-tiny-chinese-ws') # or other models above\n",
    "\n",
    "\n",
    "    # Initialize drivers\n",
    "    # tokenizer\n",
    "    ws_driver = CkipWordSegmenter(model = \"bert-base\")\n",
    "\n",
    "    # 斷詞\n",
    "    ws_result = ws_driver(text)\n",
    "\n",
    "    # 回傳斷詞結果，list[str]\n",
    "    return ws_result[0]"
   ]
  },
  {
   "attachments": {},
   "cell_type": "markdown",
   "metadata": {},
   "source": [
    "### 主程式"
   ]
  },
  {
   "cell_type": "code",
   "execution_count": 5,
   "metadata": {},
   "outputs": [],
   "source": [
    "def main():\n",
    "    text = \"你們抓捕周樹人跟我魯迅有甚麼關係\"  # 輸入你想要的文本\n",
    "    url = \"https://predis.ai/free-ai-tools/ai-meme-generator/#\"\n",
    "    \n",
    "    # 對輸入文本進行預處理，回傳 List[str]\n",
    "    text = text_preprocessing([text])\n",
    "\n",
    "    # 至少 4 個詞彙才會執行\n",
    "    if len(text) >= 4:\n",
    "        # 詞彙之間以空格做間隔\n",
    "        text = \" \".join(text)\n",
    "\n",
    "        # 開始網路爬蟲\n",
    "        Generator = MemeGeneratorPredisAI(url)\n",
    "        Generator.open_webdriver()\n",
    "        meme_url = Generator.generate_meme(text)\n",
    "        Generator.close()\n",
    "        \n",
    "        # 儲存圖片\n",
    "        response = requests.get(meme_url)\n",
    "        with open(\"./pictures/result.jpg\", \"wb\") as f:\n",
    "            f.write(response.content)\n",
    "    else:\n",
    "        print(\"字數過少\")"
   ]
  },
  {
   "cell_type": "code",
   "execution_count": 6,
   "metadata": {},
   "outputs": [
    {
     "name": "stderr",
     "output_type": "stream",
     "text": [
      "Tokenization: 100%|██████████| 1/1 [00:00<?, ?it/s]\n",
      "Inference: 100%|██████████| 1/1 [00:00<00:00,  9.66it/s]\n",
      "C:\\Users\\raamii0617eric\\AppData\\Local\\Temp\\ipykernel_28620\\901202159.py:20: DeprecationWarning: executable_path has been deprecated, please pass in a Service object\n",
      "  self.driver = webdriver.Chrome(\n"
     ]
    }
   ],
   "source": [
    "if __name__ == \"__main__\":\n",
    "    main()"
   ]
  },
  {
   "cell_type": "code",
   "execution_count": null,
   "metadata": {},
   "outputs": [],
   "source": []
  }
 ],
 "metadata": {
  "kernelspec": {
   "display_name": "Python 3",
   "language": "python",
   "name": "python3"
  },
  "language_info": {
   "codemirror_mode": {
    "name": "ipython",
    "version": 3
   },
   "file_extension": ".py",
   "mimetype": "text/x-python",
   "name": "python",
   "nbconvert_exporter": "python",
   "pygments_lexer": "ipython3",
   "version": "3.10.6"
  },
  "orig_nbformat": 4
 },
 "nbformat": 4,
 "nbformat_minor": 2
}
